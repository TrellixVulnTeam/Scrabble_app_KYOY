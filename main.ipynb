{
 "cells": [
  {
   "cell_type": "code",
   "execution_count": 3,
   "metadata": {},
   "outputs": [
    {
     "name": "stdout",
     "output_type": "stream",
     "text": [
      "A: 12\n",
      "B: 2\n",
      "C: 4\n",
      "D: 5\n",
      "E: 12\n",
      "F: 2\n",
      "G: 2\n",
      "H: 2\n",
      "I: 6\n",
      "J: 1\n",
      "K: 1\n",
      "L: 4\n",
      "M: 3\n",
      "N: 5\n",
      "O: 9\n",
      "P: 2\n",
      "Q: 1\n",
      "R: 5\n",
      "S: 7\n",
      "T: 4\n",
      "U: 6\n",
      "V: 1\n",
      "W: 1\n",
      "X: 1\n",
      "Y: 1\n",
      "Z: 1\n"
     ]
    }
   ],
   "source": [
    "# Step 2\n",
    "\n",
    "from ScrabbleModule import *\n",
    "\n",
    "bag_of_pawns = Pawns()\n",
    "bag_of_pawns.createBag()\n",
    "bag_of_pawns.showPawns()"
   ]
  },
  {
   "cell_type": "code",
   "execution_count": 5,
   "metadata": {},
   "outputs": [
    {
     "name": "stdout",
     "output_type": "stream",
     "text": [
      "K: 1\n",
      "E: 2\n",
      "D: 1\n",
      "W: 1\n",
      "I: 1\n",
      "M: 1\n"
     ]
    }
   ],
   "source": [
    "# Step 3\n",
    "\n",
    "from ScrabbleModule import *\n",
    "\n",
    "bag_of_pawns = Pawns()\n",
    "bag_of_pawns.createBag()\n",
    "\n",
    "player_pawns = Pawns()\n",
    "for _ in range(7):\n",
    "    player_pawns.addPawn(bag_of_pawns.takeRandomPawn())\n",
    "\n",
    "player_pawns.showPawns()"
   ]
  },
  {
   "cell_type": "code",
   "execution_count": 6,
   "metadata": {},
   "outputs": [
    {
     "name": "stdout",
     "output_type": "stream",
     "text": [
      "DOG\n"
     ]
    },
    {
     "data": {
      "text/plain": [
       "True"
      ]
     },
     "execution_count": 6,
     "metadata": {},
     "output_type": "execute_result"
    }
   ],
   "source": [
    "# Step 5\n",
    "\n",
    "from ScrabbleModule import *\n",
    "\n",
    "word = Word.readWord()\n",
    "print(word)\n",
    "Dictionary.validateWord(word)"
   ]
  },
  {
   "cell_type": "code",
   "execution_count": 4,
   "metadata": {},
   "outputs": [],
   "source": [
    "# Step 6\n",
    "\n",
    "from ScrabbleModule import *\n",
    "\n",
    "bag_of_pawns = Pawns()\n",
    "bag_of_pawns.createBag()\n",
    "\n",
    "player_pawns = Pawns()\n",
    "for _ in range(7):\n",
    "    player_pawns.addPawn(bag_of_pawns.takeRandomPawn())"
   ]
  },
  {
   "cell_type": "code",
   "execution_count": 7,
   "metadata": {},
   "outputs": [
    {
     "name": "stdout",
     "output_type": "stream",
     "text": [
      "D: 1\n",
      "E: 1\n",
      "M: 1\n",
      "N: 1\n",
      "O: 1\n",
      "S: 1\n",
      "T: 1\n",
      "\n",
      "A: 1\n",
      "B: 1\n",
      "C: 1\n"
     ]
    },
    {
     "data": {
      "text/plain": [
       "False"
      ]
     },
     "execution_count": 7,
     "metadata": {},
     "output_type": "execute_result"
    }
   ],
   "source": [
    "player_pawns_freq = player_pawns.getFrequency()\n",
    "player_pawns_freq.showFrequency()\n",
    "\n",
    "print('')\n",
    "\n",
    "input_word_freq = Word.readWord().getFrequency()\n",
    "input_word_freq.showFrequency()\n",
    "\n",
    "FrequencyTable.isSubset(input_word_freq, player_pawns_freq)"
   ]
  },
  {
   "cell_type": "code",
   "execution_count": 2,
   "metadata": {},
   "outputs": [
    {
     "name": "stdout",
     "output_type": "stream",
     "text": [
      "\n",
      "     00  01  02  03  04  05  06  07  08  09  10  11  12  13  14\n",
      "   +---+---+---+---+---+---+---+---+---+---+---+---+---+---+---+\n",
      "   |   |   |   |   |   |   |   |   |   |   |   |   |   |   |   | 00\n",
      "   +---+---+---+---+---+---+---+---+---+---+---+---+---+---+---+\n",
      "   |   |   |   |   |   |   |   |   |   |   |   |   |   |   |   | 01\n",
      "   +---+---+---+---+---+---+---+---+---+---+---+---+---+---+---+\n",
      "   |   |   |   |   |   |   |   |   |   |   |   |   |   |   |   | 02\n",
      "   +---+---+---+---+---+---+---+---+---+---+---+---+---+---+---+\n",
      "   |   |   |   |   |   |   |   |   |   |   |   |   |   |   |   | 03\n",
      "   +---+---+---+---+---+---+---+---+---+---+---+---+---+---+---+\n",
      "   |   |   |   |   |   |   |   |   |   |   |   |   |   |   |   | 04\n",
      "   +---+---+---+---+---+---+---+---+---+---+---+---+---+---+---+\n",
      "   |   |   |   |   |   |   | A |   |   |   |   |   |   |   |   | 05\n",
      "   +---+---+---+---+---+---+---+---+---+---+---+---+---+---+---+\n",
      "   |   |   |   |   |   |   |   |   |   |   |   |   |   |   |   | 06\n",
      "   +---+---+---+---+---+---+---+---+---+---+---+---+---+---+---+\n",
      "   |   |   |   |   |   |   |   |   |   |   |   |   |   |   |   | 07\n",
      "   +---+---+---+---+---+---+---+---+---+---+---+---+---+---+---+\n",
      "   |   |   |   |   |   |   |   |   |   |   |   |   |   |   |   | 08\n",
      "   +---+---+---+---+---+---+---+---+---+---+---+---+---+---+---+\n",
      "   |   |   |   |   |   |   |   |   |   |   |   |   |   |   |   | 09\n",
      "   +---+---+---+---+---+---+---+---+---+---+---+---+---+---+---+\n",
      "   |   |   |   |   |   |   |   |   |   |   |   |   |   |   |   | 10\n",
      "   +---+---+---+---+---+---+---+---+---+---+---+---+---+---+---+\n",
      "   |   |   |   |   |   |   |   |   |   |   |   |   |   |   |   | 11\n",
      "   +---+---+---+---+---+---+---+---+---+---+---+---+---+---+---+\n",
      "   |   |   |   |   |   |   |   |   |   |   |   |   |   |   |   | 12\n",
      "   +---+---+---+---+---+---+---+---+---+---+---+---+---+---+---+\n",
      "   |   |   |   |   |   |   |   |   |   |   |   |   |   |   |   | 13\n",
      "   +---+---+---+---+---+---+---+---+---+---+---+---+---+---+---+\n",
      "   |   |   |   |   |   |   |   |   |   |   |   |   |   |   |   | 14\n",
      "   +---+---+---+---+---+---+---+---+---+---+---+---+---+---+---+\n",
      "\n"
     ]
    }
   ],
   "source": [
    "# Step 7\n",
    "\n",
    "from ScrabbleModule import *\n",
    "\n",
    "b = Board()\n",
    "b.board[5][6] = 'A'\n",
    "b.showBoard()"
   ]
  },
  {
   "cell_type": "code",
   "execution_count": 1,
   "metadata": {},
   "outputs": [
    {
     "name": "stdout",
     "output_type": "stream",
     "text": [
      "['O', 'E', 'K', 'N', 'I', 'I', 'N']\n",
      "\n",
      "     00  01  02  03  04  05  06  07  08  09  10  11  12  13  14\n",
      "   +---+---+---+---+---+---+---+---+---+---+---+---+---+---+---+\n",
      "   |   |   |   |   |   |   |   |   |   |   |   |   |   |   |   | 00\n",
      "   +---+---+---+---+---+---+---+---+---+---+---+---+---+---+---+\n",
      "   |   |   |   |   |   |   |   |   |   |   |   |   |   |   |   | 01\n",
      "   +---+---+---+---+---+---+---+---+---+---+---+---+---+---+---+\n",
      "   |   |   |   |   |   |   |   |   |   |   |   |   |   |   |   | 02\n",
      "   +---+---+---+---+---+---+---+---+---+---+---+---+---+---+---+\n",
      "   |   |   |   |   |   |   |   |   |   |   |   |   |   |   |   | 03\n",
      "   +---+---+---+---+---+---+---+---+---+---+---+---+---+---+---+\n",
      "   |   |   |   |   |   |   |   |   |   |   |   |   |   |   |   | 04\n",
      "   +---+---+---+---+---+---+---+---+---+---+---+---+---+---+---+\n",
      "   |   |   |   |   |   | N | E | O | N |   |   |   |   |   |   | 05\n",
      "   +---+---+---+---+---+---+---+---+---+---+---+---+---+---+---+\n",
      "   |   |   |   |   |   |   |   |   |   |   |   |   |   |   |   | 06\n",
      "   +---+---+---+---+---+---+---+---+---+---+---+---+---+---+---+\n",
      "   |   |   |   |   |   |   |   |   |   |   |   |   |   |   |   | 07\n",
      "   +---+---+---+---+---+---+---+---+---+---+---+---+---+---+---+\n",
      "   |   |   |   |   |   |   |   |   |   |   |   |   |   |   |   | 08\n",
      "   +---+---+---+---+---+---+---+---+---+---+---+---+---+---+---+\n",
      "   |   |   |   |   |   |   |   |   |   |   |   |   |   |   |   | 09\n",
      "   +---+---+---+---+---+---+---+---+---+---+---+---+---+---+---+\n",
      "   |   |   |   |   |   |   |   |   |   |   |   |   |   |   |   | 10\n",
      "   +---+---+---+---+---+---+---+---+---+---+---+---+---+---+---+\n",
      "   |   |   |   |   |   |   |   |   |   |   |   |   |   |   |   | 11\n",
      "   +---+---+---+---+---+---+---+---+---+---+---+---+---+---+---+\n",
      "   |   |   |   |   |   |   |   |   |   |   |   |   |   |   |   | 12\n",
      "   +---+---+---+---+---+---+---+---+---+---+---+---+---+---+---+\n",
      "   |   |   |   |   |   |   |   |   |   |   |   |   |   |   |   | 13\n",
      "   +---+---+---+---+---+---+---+---+---+---+---+---+---+---+---+\n",
      "   |   |   |   |   |   |   |   |   |   |   |   |   |   |   |   | 14\n",
      "   +---+---+---+---+---+---+---+---+---+---+---+---+---+---+---+\n",
      "\n",
      "['K', 'I', 'I', 'C', 'U', 'F', 'A']\n"
     ]
    }
   ],
   "source": [
    "# Step 8\n",
    "\n",
    "from ScrabbleModule import *\n",
    "\n",
    "bag_of_pawns = Pawns()\n",
    "bag_of_pawns.createBag()\n",
    "\n",
    "player_pawns = Pawns()\n",
    "for _ in range(7):\n",
    "    player_pawns.addPawn(bag_of_pawns.takeRandomPawn())\n",
    "\n",
    "print(player_pawns.letters)\n",
    "\n",
    "word = Word.readWord()\n",
    "\n",
    "x = int(input('x: '))\n",
    "y = int(input('y: '))\n",
    "direction = input('direction: ')\n",
    "\n",
    "board = Board()\n",
    "board.placeWord(player_pawns, word, x, y, direction)\n",
    "board.showBoard()\n",
    "\n",
    "for _ in range(7 - player_pawns.getTotalPawns()):\n",
    "    player_pawns.addPawn(bag_of_pawns.takeRandomPawn())\n",
    "\n",
    "print(player_pawns.letters)\n"
   ]
  },
  {
   "cell_type": "code",
   "execution_count": 1,
   "metadata": {},
   "outputs": [
    {
     "name": "stdout",
     "output_type": "stream",
     "text": [
      "['N', 'A', 'T', 'M', 'I', 'A', 'P']\n",
      "\n",
      "     00  01  02  03  04  05  06  07  08  09  10  11  12  13  14\n",
      "   +---+---+---+---+---+---+---+---+---+---+---+---+---+---+---+\n",
      "   |   |   |   |   |   |   |   |   |   |   |   |   |   |   |   | 00\n",
      "   +---+---+---+---+---+---+---+---+---+---+---+---+---+---+---+\n",
      "   |   |   |   |   |   |   |   |   |   |   |   |   |   |   |   | 01\n",
      "   +---+---+---+---+---+---+---+---+---+---+---+---+---+---+---+\n",
      "   |   |   |   |   |   |   |   |   |   |   |   |   |   |   |   | 02\n",
      "   +---+---+---+---+---+---+---+---+---+---+---+---+---+---+---+\n",
      "   |   |   |   |   |   |   |   |   |   |   |   |   |   |   |   | 03\n",
      "   +---+---+---+---+---+---+---+---+---+---+---+---+---+---+---+\n",
      "   |   |   |   |   |   |   |   |   |   |   |   |   |   |   |   | 04\n",
      "   +---+---+---+---+---+---+---+---+---+---+---+---+---+---+---+\n",
      "   |   |   |   |   |   | N | A | T | I |   |   |   |   |   |   | 05\n",
      "   +---+---+---+---+---+---+---+---+---+---+---+---+---+---+---+\n",
      "   |   |   |   |   |   |   |   |   |   |   |   |   |   |   |   | 06\n",
      "   +---+---+---+---+---+---+---+---+---+---+---+---+---+---+---+\n",
      "   |   |   |   |   |   |   |   |   |   |   |   |   |   |   |   | 07\n",
      "   +---+---+---+---+---+---+---+---+---+---+---+---+---+---+---+\n",
      "   |   |   |   |   |   |   |   |   |   |   |   |   |   |   |   | 08\n",
      "   +---+---+---+---+---+---+---+---+---+---+---+---+---+---+---+\n",
      "   |   |   |   |   |   |   |   |   |   |   |   |   |   |   |   | 09\n",
      "   +---+---+---+---+---+---+---+---+---+---+---+---+---+---+---+\n",
      "   |   |   |   |   |   |   |   |   |   |   |   |   |   |   |   | 10\n",
      "   +---+---+---+---+---+---+---+---+---+---+---+---+---+---+---+\n",
      "   |   |   |   |   |   |   |   |   |   |   |   |   |   |   |   | 11\n",
      "   +---+---+---+---+---+---+---+---+---+---+---+---+---+---+---+\n",
      "   |   |   |   |   |   |   |   |   |   |   |   |   |   |   |   | 12\n",
      "   +---+---+---+---+---+---+---+---+---+---+---+---+---+---+---+\n",
      "   |   |   |   |   |   |   |   |   |   |   |   |   |   |   |   | 13\n",
      "   +---+---+---+---+---+---+---+---+---+---+---+---+---+---+---+\n",
      "   |   |   |   |   |   |   |   |   |   |   |   |   |   |   |   | 14\n",
      "   +---+---+---+---+---+---+---+---+---+---+---+---+---+---+---+\n",
      "\n",
      "['M', 'A', 'P', 'E', 'N', 'D', 'V']\n"
     ]
    },
    {
     "data": {
      "text/plain": [
       "True"
      ]
     },
     "execution_count": 1,
     "metadata": {},
     "output_type": "execute_result"
    }
   ],
   "source": [
    "# Step 10\n",
    "\n",
    "from ScrabbleModule import *\n",
    "\n",
    "bag_of_pawns = Pawns()\n",
    "bag_of_pawns.createBag()\n",
    "\n",
    "player_pawns = Pawns()\n",
    "for _ in range(7):\n",
    "    player_pawns.addPawn(bag_of_pawns.takeRandomPawn())\n",
    "\n",
    "print(player_pawns.letters)\n",
    "\n",
    "word = Word.readWord()\n",
    "\n",
    "x = int(input('x: '))\n",
    "y = int(input('y: '))\n",
    "direction = input('direction: ')\n",
    "\n",
    "board = Board()\n",
    "board.placeWord(player_pawns, word, x, y, direction)\n",
    "board.showBoard()\n",
    "\n",
    "for _ in range(7 - player_pawns.getTotalPawns()):\n",
    "    player_pawns.addPawn(bag_of_pawns.takeRandomPawn())\n",
    "\n",
    "print(player_pawns.letters)\n",
    "\n",
    "word = Word.readWord()\n",
    "\n",
    "x = int(input('x: '))\n",
    "y = int(input('y: '))\n",
    "direction = input('direction: ')\n",
    "\n",
    "needed_letters = board.getPawns(word, x, y, direction)\n",
    "\n",
    "FrequencyTable.isSubset(needed_letters.getFrequency(), player_pawns.getFrequency())\n"
   ]
  },
  {
   "cell_type": "code",
   "execution_count": null,
   "metadata": {},
   "outputs": [],
   "source": [
    "# Step 11\n",
    "\n"
   ]
  }
 ],
 "metadata": {
  "interpreter": {
   "hash": "cfabb1696f3f92dd827b4781d6568a4befad65a1aca197adeca8204c757e44c2"
  },
  "kernelspec": {
   "display_name": "Python 3.8.10 ('venv-scrabble': venv)",
   "language": "python",
   "name": "python3"
  },
  "language_info": {
   "codemirror_mode": {
    "name": "ipython",
    "version": 3
   },
   "file_extension": ".py",
   "mimetype": "text/x-python",
   "name": "python",
   "nbconvert_exporter": "python",
   "pygments_lexer": "ipython3",
   "version": "3.8.10"
  },
  "orig_nbformat": 4
 },
 "nbformat": 4,
 "nbformat_minor": 2
}
