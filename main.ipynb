{
 "cells": [
  {
   "cell_type": "code",
   "execution_count": 3,
   "metadata": {},
   "outputs": [
    {
     "name": "stdout",
     "output_type": "stream",
     "text": [
      "A: 12\n",
      "B: 2\n",
      "C: 4\n",
      "D: 5\n",
      "E: 12\n",
      "F: 2\n",
      "G: 2\n",
      "H: 2\n",
      "I: 6\n",
      "J: 1\n",
      "K: 1\n",
      "L: 4\n",
      "M: 3\n",
      "N: 5\n",
      "O: 9\n",
      "P: 2\n",
      "Q: 1\n",
      "R: 5\n",
      "S: 7\n",
      "T: 4\n",
      "U: 6\n",
      "V: 1\n",
      "W: 1\n",
      "X: 1\n",
      "Y: 1\n",
      "Z: 1\n"
     ]
    }
   ],
   "source": [
    "# Step 2\n",
    "\n",
    "from ScrabbleModule import *\n",
    "\n",
    "bag_of_pawns = Pawns()\n",
    "bag_of_pawns.createBag()\n",
    "bag_of_pawns.showPawns()"
   ]
  },
  {
   "cell_type": "code",
   "execution_count": 4,
   "metadata": {},
   "outputs": [
    {
     "name": "stdout",
     "output_type": "stream",
     "text": [
      "E: 1\n",
      "I: 1\n",
      "M: 2\n",
      "S: 1\n",
      "U: 2\n"
     ]
    }
   ],
   "source": [
    "# Step 3\n",
    "\n",
    "from ScrabbleModule import *\n",
    "\n",
    "bag_of_pawns = Pawns()\n",
    "bag_of_pawns.createBag()\n",
    "\n",
    "player_pawns = Pawns()\n",
    "for _ in range(7):\n",
    "    player_pawns.addPawn(bag_of_pawns.takeRandomPawn())\n",
    "\n",
    "player_pawns.showPawns()"
   ]
  },
  {
   "cell_type": "code",
   "execution_count": 5,
   "metadata": {},
   "outputs": [
    {
     "name": "stdout",
     "output_type": "stream",
     "text": [
      "DOG\n"
     ]
    },
    {
     "data": {
      "text/plain": [
       "True"
      ]
     },
     "execution_count": 5,
     "metadata": {},
     "output_type": "execute_result"
    }
   ],
   "source": [
    "# Step 5\n",
    "\n",
    "from ScrabbleModule import *\n",
    "\n",
    "word = Word.readWord()\n",
    "print(word)\n",
    "Dictionary.validateWord(word)"
   ]
  },
  {
   "cell_type": "code",
   "execution_count": 4,
   "metadata": {},
   "outputs": [],
   "source": [
    "# Step 6\n",
    "\n",
    "from ScrabbleModule import *\n",
    "\n",
    "bag_of_pawns = Pawns()\n",
    "bag_of_pawns.createBag()\n",
    "\n",
    "player_pawns = Pawns()\n",
    "for _ in range(7):\n",
    "    player_pawns.addPawn(bag_of_pawns.takeRandomPawn())"
   ]
  },
  {
   "cell_type": "code",
   "execution_count": 7,
   "metadata": {},
   "outputs": [
    {
     "name": "stdout",
     "output_type": "stream",
     "text": [
      "D: 1\n",
      "E: 1\n",
      "M: 1\n",
      "N: 1\n",
      "O: 1\n",
      "S: 1\n",
      "T: 1\n",
      "\n",
      "A: 1\n",
      "B: 1\n",
      "C: 1\n"
     ]
    },
    {
     "data": {
      "text/plain": [
       "False"
      ]
     },
     "execution_count": 7,
     "metadata": {},
     "output_type": "execute_result"
    }
   ],
   "source": [
    "player_pawns_freq = player_pawns.getFrequency()\n",
    "player_pawns_freq.showFrequency()\n",
    "\n",
    "print('')\n",
    "\n",
    "input_word_freq = Word.readWord().getFrequency()\n",
    "input_word_freq.showFrequency()\n",
    "\n",
    "FrequencyTable.isSubset(input_word_freq, player_pawns_freq)"
   ]
  },
  {
   "cell_type": "code",
   "execution_count": 2,
   "metadata": {},
   "outputs": [
    {
     "name": "stdout",
     "output_type": "stream",
     "text": [
      "\n",
      "     00  01  02  03  04  05  06  07  08  09  10  11  12  13  14\n",
      "   +---+---+---+---+---+---+---+---+---+---+---+---+---+---+---+\n",
      "   |   |   |   |   |   |   |   |   |   |   |   |   |   |   |   | 00\n",
      "   +---+---+---+---+---+---+---+---+---+---+---+---+---+---+---+\n",
      "   |   |   |   |   |   |   |   |   |   |   |   |   |   |   |   | 01\n",
      "   +---+---+---+---+---+---+---+---+---+---+---+---+---+---+---+\n",
      "   |   |   |   |   |   |   |   |   |   |   |   |   |   |   |   | 02\n",
      "   +---+---+---+---+---+---+---+---+---+---+---+---+---+---+---+\n",
      "   |   |   |   |   |   |   |   |   |   |   |   |   |   |   |   | 03\n",
      "   +---+---+---+---+---+---+---+---+---+---+---+---+---+---+---+\n",
      "   |   |   |   |   |   |   |   |   |   |   |   |   |   |   |   | 04\n",
      "   +---+---+---+---+---+---+---+---+---+---+---+---+---+---+---+\n",
      "   |   |   |   |   |   |   | A |   |   |   |   |   |   |   |   | 05\n",
      "   +---+---+---+---+---+---+---+---+---+---+---+---+---+---+---+\n",
      "   |   |   |   |   |   |   |   |   |   |   |   |   |   |   |   | 06\n",
      "   +---+---+---+---+---+---+---+---+---+---+---+---+---+---+---+\n",
      "   |   |   |   |   |   |   |   |   |   |   |   |   |   |   |   | 07\n",
      "   +---+---+---+---+---+---+---+---+---+---+---+---+---+---+---+\n",
      "   |   |   |   |   |   |   |   |   |   |   |   |   |   |   |   | 08\n",
      "   +---+---+---+---+---+---+---+---+---+---+---+---+---+---+---+\n",
      "   |   |   |   |   |   |   |   |   |   |   |   |   |   |   |   | 09\n",
      "   +---+---+---+---+---+---+---+---+---+---+---+---+---+---+---+\n",
      "   |   |   |   |   |   |   |   |   |   |   |   |   |   |   |   | 10\n",
      "   +---+---+---+---+---+---+---+---+---+---+---+---+---+---+---+\n",
      "   |   |   |   |   |   |   |   |   |   |   |   |   |   |   |   | 11\n",
      "   +---+---+---+---+---+---+---+---+---+---+---+---+---+---+---+\n",
      "   |   |   |   |   |   |   |   |   |   |   |   |   |   |   |   | 12\n",
      "   +---+---+---+---+---+---+---+---+---+---+---+---+---+---+---+\n",
      "   |   |   |   |   |   |   |   |   |   |   |   |   |   |   |   | 13\n",
      "   +---+---+---+---+---+---+---+---+---+---+---+---+---+---+---+\n",
      "   |   |   |   |   |   |   |   |   |   |   |   |   |   |   |   | 14\n",
      "   +---+---+---+---+---+---+---+---+---+---+---+---+---+---+---+\n",
      "\n"
     ]
    }
   ],
   "source": [
    "# Step 7\n",
    "\n",
    "from ScrabbleModule import *\n",
    "\n",
    "b = Board()\n",
    "b.board[5][6] = 'A'\n",
    "b.showBoard()"
   ]
  },
  {
   "cell_type": "code",
   "execution_count": 1,
   "metadata": {},
   "outputs": [
    {
     "name": "stdout",
     "output_type": "stream",
     "text": [
      "['O', 'E', 'K', 'N', 'I', 'I', 'N']\n",
      "\n",
      "     00  01  02  03  04  05  06  07  08  09  10  11  12  13  14\n",
      "   +---+---+---+---+---+---+---+---+---+---+---+---+---+---+---+\n",
      "   |   |   |   |   |   |   |   |   |   |   |   |   |   |   |   | 00\n",
      "   +---+---+---+---+---+---+---+---+---+---+---+---+---+---+---+\n",
      "   |   |   |   |   |   |   |   |   |   |   |   |   |   |   |   | 01\n",
      "   +---+---+---+---+---+---+---+---+---+---+---+---+---+---+---+\n",
      "   |   |   |   |   |   |   |   |   |   |   |   |   |   |   |   | 02\n",
      "   +---+---+---+---+---+---+---+---+---+---+---+---+---+---+---+\n",
      "   |   |   |   |   |   |   |   |   |   |   |   |   |   |   |   | 03\n",
      "   +---+---+---+---+---+---+---+---+---+---+---+---+---+---+---+\n",
      "   |   |   |   |   |   |   |   |   |   |   |   |   |   |   |   | 04\n",
      "   +---+---+---+---+---+---+---+---+---+---+---+---+---+---+---+\n",
      "   |   |   |   |   |   | N | E | O | N |   |   |   |   |   |   | 05\n",
      "   +---+---+---+---+---+---+---+---+---+---+---+---+---+---+---+\n",
      "   |   |   |   |   |   |   |   |   |   |   |   |   |   |   |   | 06\n",
      "   +---+---+---+---+---+---+---+---+---+---+---+---+---+---+---+\n",
      "   |   |   |   |   |   |   |   |   |   |   |   |   |   |   |   | 07\n",
      "   +---+---+---+---+---+---+---+---+---+---+---+---+---+---+---+\n",
      "   |   |   |   |   |   |   |   |   |   |   |   |   |   |   |   | 08\n",
      "   +---+---+---+---+---+---+---+---+---+---+---+---+---+---+---+\n",
      "   |   |   |   |   |   |   |   |   |   |   |   |   |   |   |   | 09\n",
      "   +---+---+---+---+---+---+---+---+---+---+---+---+---+---+---+\n",
      "   |   |   |   |   |   |   |   |   |   |   |   |   |   |   |   | 10\n",
      "   +---+---+---+---+---+---+---+---+---+---+---+---+---+---+---+\n",
      "   |   |   |   |   |   |   |   |   |   |   |   |   |   |   |   | 11\n",
      "   +---+---+---+---+---+---+---+---+---+---+---+---+---+---+---+\n",
      "   |   |   |   |   |   |   |   |   |   |   |   |   |   |   |   | 12\n",
      "   +---+---+---+---+---+---+---+---+---+---+---+---+---+---+---+\n",
      "   |   |   |   |   |   |   |   |   |   |   |   |   |   |   |   | 13\n",
      "   +---+---+---+---+---+---+---+---+---+---+---+---+---+---+---+\n",
      "   |   |   |   |   |   |   |   |   |   |   |   |   |   |   |   | 14\n",
      "   +---+---+---+---+---+---+---+---+---+---+---+---+---+---+---+\n",
      "\n",
      "['K', 'I', 'I', 'C', 'U', 'F', 'A']\n"
     ]
    }
   ],
   "source": [
    "# Step 8\n",
    "\n",
    "from ScrabbleModule import *\n",
    "\n",
    "bag_of_pawns = Pawns()\n",
    "bag_of_pawns.createBag()\n",
    "\n",
    "player_pawns = Pawns()\n",
    "for _ in range(7):\n",
    "    player_pawns.addPawn(bag_of_pawns.takeRandomPawn())\n",
    "\n",
    "print(player_pawns.letters)\n",
    "\n",
    "word = Word.readWord()\n",
    "\n",
    "x = int(input('x: '))\n",
    "y = int(input('y: '))\n",
    "direction = input('direction: ')\n",
    "\n",
    "board = Board()\n",
    "board.placeWord(player_pawns, word, x, y, direction)\n",
    "board.showBoard()\n",
    "\n",
    "for _ in range(7 - player_pawns.getTotalPawns()):\n",
    "    player_pawns.addPawn(bag_of_pawns.takeRandomPawn())\n",
    "\n",
    "print(player_pawns.letters)\n"
   ]
  },
  {
   "cell_type": "code",
   "execution_count": 1,
   "metadata": {},
   "outputs": [
    {
     "name": "stdout",
     "output_type": "stream",
     "text": [
      "['N', 'A', 'T', 'M', 'I', 'A', 'P']\n",
      "\n",
      "     00  01  02  03  04  05  06  07  08  09  10  11  12  13  14\n",
      "   +---+---+---+---+---+---+---+---+---+---+---+---+---+---+---+\n",
      "   |   |   |   |   |   |   |   |   |   |   |   |   |   |   |   | 00\n",
      "   +---+---+---+---+---+---+---+---+---+---+---+---+---+---+---+\n",
      "   |   |   |   |   |   |   |   |   |   |   |   |   |   |   |   | 01\n",
      "   +---+---+---+---+---+---+---+---+---+---+---+---+---+---+---+\n",
      "   |   |   |   |   |   |   |   |   |   |   |   |   |   |   |   | 02\n",
      "   +---+---+---+---+---+---+---+---+---+---+---+---+---+---+---+\n",
      "   |   |   |   |   |   |   |   |   |   |   |   |   |   |   |   | 03\n",
      "   +---+---+---+---+---+---+---+---+---+---+---+---+---+---+---+\n",
      "   |   |   |   |   |   |   |   |   |   |   |   |   |   |   |   | 04\n",
      "   +---+---+---+---+---+---+---+---+---+---+---+---+---+---+---+\n",
      "   |   |   |   |   |   | N | A | T | I |   |   |   |   |   |   | 05\n",
      "   +---+---+---+---+---+---+---+---+---+---+---+---+---+---+---+\n",
      "   |   |   |   |   |   |   |   |   |   |   |   |   |   |   |   | 06\n",
      "   +---+---+---+---+---+---+---+---+---+---+---+---+---+---+---+\n",
      "   |   |   |   |   |   |   |   |   |   |   |   |   |   |   |   | 07\n",
      "   +---+---+---+---+---+---+---+---+---+---+---+---+---+---+---+\n",
      "   |   |   |   |   |   |   |   |   |   |   |   |   |   |   |   | 08\n",
      "   +---+---+---+---+---+---+---+---+---+---+---+---+---+---+---+\n",
      "   |   |   |   |   |   |   |   |   |   |   |   |   |   |   |   | 09\n",
      "   +---+---+---+---+---+---+---+---+---+---+---+---+---+---+---+\n",
      "   |   |   |   |   |   |   |   |   |   |   |   |   |   |   |   | 10\n",
      "   +---+---+---+---+---+---+---+---+---+---+---+---+---+---+---+\n",
      "   |   |   |   |   |   |   |   |   |   |   |   |   |   |   |   | 11\n",
      "   +---+---+---+---+---+---+---+---+---+---+---+---+---+---+---+\n",
      "   |   |   |   |   |   |   |   |   |   |   |   |   |   |   |   | 12\n",
      "   +---+---+---+---+---+---+---+---+---+---+---+---+---+---+---+\n",
      "   |   |   |   |   |   |   |   |   |   |   |   |   |   |   |   | 13\n",
      "   +---+---+---+---+---+---+---+---+---+---+---+---+---+---+---+\n",
      "   |   |   |   |   |   |   |   |   |   |   |   |   |   |   |   | 14\n",
      "   +---+---+---+---+---+---+---+---+---+---+---+---+---+---+---+\n",
      "\n",
      "['M', 'A', 'P', 'E', 'N', 'D', 'V']\n"
     ]
    },
    {
     "data": {
      "text/plain": [
       "True"
      ]
     },
     "execution_count": 1,
     "metadata": {},
     "output_type": "execute_result"
    }
   ],
   "source": [
    "# Step 10\n",
    "\n",
    "from ScrabbleModule import *\n",
    "\n",
    "bag_of_pawns = Pawns()\n",
    "bag_of_pawns.createBag()\n",
    "\n",
    "player_pawns = Pawns()\n",
    "for _ in range(7):\n",
    "    player_pawns.addPawn(bag_of_pawns.takeRandomPawn())\n",
    "\n",
    "print(player_pawns.letters)\n",
    "\n",
    "word = Word.readWord()\n",
    "\n",
    "x = int(input('x: '))\n",
    "y = int(input('y: '))\n",
    "direction = input('direction: ')\n",
    "\n",
    "board = Board()\n",
    "board.placeWord(player_pawns, word, x, y, direction)\n",
    "board.showBoard()\n",
    "\n",
    "for _ in range(7 - player_pawns.getTotalPawns()):\n",
    "    player_pawns.addPawn(bag_of_pawns.takeRandomPawn())\n",
    "\n",
    "print(player_pawns.letters)\n",
    "\n",
    "word = Word.readWord()\n",
    "\n",
    "x = int(input('x: '))\n",
    "y = int(input('y: '))\n",
    "direction = input('direction: ')\n",
    "\n",
    "needed_letters = board.getPawns(word, x, y, direction)\n",
    "\n",
    "FrequencyTable.isSubset(needed_letters.getFrequency(), player_pawns.getFrequency())\n"
   ]
  },
  {
   "cell_type": "code",
   "execution_count": 1,
   "metadata": {},
   "outputs": [
    {
     "name": "stdout",
     "output_type": "stream",
     "text": [
      "M\n",
      "MM\n",
      "MO\n",
      "MOS\n",
      "MOST\n",
      "MS\n",
      "MT\n",
      "MUM\n",
      "MUS\n",
      "MUST\n",
      "O\n",
      "OTUS\n",
      "OU\n",
      "OUT\n",
      "OUTS\n",
      "OW\n",
      "S\n",
      "SMUT\n",
      "SO\n",
      "SOM\n",
      "SOUT\n",
      "SOW\n",
      "ST\n",
      "STOW\n",
      "SUM\n",
      "T\n",
      "TO\n",
      "TOM\n",
      "TW\n",
      "TWO\n",
      "TWOS\n",
      "U\n",
      "UM\n",
      "US\n",
      "W\n",
      "WO\n",
      "WOS\n",
      "WOT\n"
     ]
    }
   ],
   "source": [
    "# Step 11\n",
    "\n",
    "from ScrabbleModule import *\n",
    "\n",
    "pawns = Pawns()\n",
    "pawns.letters.extend(['M', 'M', 'O', 'S', 'T', 'U', 'W'])\n",
    "\n",
    "Dictionary.showWord(pawns)"
   ]
  },
  {
   "cell_type": "code",
   "execution_count": 2,
   "metadata": {},
   "outputs": [
    {
     "name": "stdout",
     "output_type": "stream",
     "text": [
      "C\n",
      "CO\n",
      "COM\n",
      "COS\n",
      "COST\n",
      "COT\n",
      "COW\n",
      "COWS\n",
      "CT\n",
      "CU\n",
      "CUM\n",
      "CUMS\n",
      "CUSTOM\n",
      "CUT\n",
      "CUTS\n",
      "MUC\n",
      "SCOT\n",
      "SCOUT\n",
      "SCUM\n",
      "SOC\n",
      "SUC\n"
     ]
    }
   ],
   "source": [
    "Dictionary.showWordPlus(pawns, 'C')"
   ]
  },
  {
   "cell_type": "code",
   "execution_count": 1,
   "metadata": {},
   "outputs": [
    {
     "name": "stdout",
     "output_type": "stream",
     "text": [
      "\n",
      "     00  01  02  03  04  05  06  07  08  09  10  11  12  13  14\n",
      "   +---+---+---+---+---+---+---+---+---+---+---+---+---+---+---+\n",
      "   |   |   |   |   |   |   |   |   |   |   |   |   |   |   |   | 00\n",
      "   +---+---+---+---+---+---+---+---+---+---+---+---+---+---+---+\n",
      "   |   |   |   |   |   |   |   |   |   |   |   |   |   |   |   | 01\n",
      "   +---+---+---+---+---+---+---+---+---+---+---+---+---+---+---+\n",
      "   |   |   |   |   |   |   |   |   |   |   |   |   |   |   |   | 02\n",
      "   +---+---+---+---+---+---+---+---+---+---+---+---+---+---+---+\n",
      "   |   |   |   |   |   |   |   |   |   |   |   |   |   |   |   | 03\n",
      "   +---+---+---+---+---+---+---+---+---+---+---+---+---+---+---+\n",
      "   |   |   |   |   |   |   |   |   |   |   |   |   |   |   |   | 04\n",
      "   +---+---+---+---+---+---+---+---+---+---+---+---+---+---+---+\n",
      "   |   |   |   |   |   |   | P | E | R | R | O |   |   |   |   | 05\n",
      "   +---+---+---+---+---+---+---+---+---+---+---+---+---+---+---+\n",
      "   |   |   |   |   |   |   |   |   |   |   |   |   |   |   |   | 06\n",
      "   +---+---+---+---+---+---+---+---+---+---+---+---+---+---+---+\n",
      "   |   |   |   |   |   |   |   |   |   |   |   |   |   |   |   | 07\n",
      "   +---+---+---+---+---+---+---+---+---+---+---+---+---+---+---+\n",
      "   |   |   |   |   |   |   |   |   |   |   |   |   |   |   |   | 08\n",
      "   +---+---+---+---+---+---+---+---+---+---+---+---+---+---+---+\n",
      "   |   |   |   |   |   |   |   |   |   |   |   |   |   |   |   | 09\n",
      "   +---+---+---+---+---+---+---+---+---+---+---+---+---+---+---+\n",
      "   |   |   |   |   |   |   |   |   |   |   |   |   |   |   |   | 10\n",
      "   +---+---+---+---+---+---+---+---+---+---+---+---+---+---+---+\n",
      "   |   |   |   |   |   |   |   |   |   |   |   |   |   |   |   | 11\n",
      "   +---+---+---+---+---+---+---+---+---+---+---+---+---+---+---+\n",
      "   |   |   |   |   |   |   |   |   |   |   |   |   |   |   |   | 12\n",
      "   +---+---+---+---+---+---+---+---+---+---+---+---+---+---+---+\n",
      "   |   |   |   |   |   |   |   |   |   |   |   |   |   |   |   | 13\n",
      "   +---+---+---+---+---+---+---+---+---+---+---+---+---+---+---+\n",
      "   |   |   |   |   |   |   |   |   |   |   |   |   |   |   |   | 14\n",
      "   +---+---+---+---+---+---+---+---+---+---+---+---+---+---+---+\n",
      "\n"
     ]
    }
   ],
   "source": [
    "from ScrabbleModule import *\n",
    "\n",
    "bag_of_pawns = Pawns()\n",
    "bag_of_pawns.createBag()\n",
    "\n",
    "word = Word.readWord()\n",
    "x = int(input('x: '))\n",
    "y = int(input('y: '))\n",
    "direction = input('direction: ')\n",
    "\n",
    "board = Board()\n",
    "board.placeWord(bag_of_pawns, word, x, y, direction)\n",
    "board.showBoard()"
   ]
  },
  {
   "cell_type": "code",
   "execution_count": 2,
   "metadata": {},
   "outputs": [
    {
     "name": "stdout",
     "output_type": "stream",
     "text": [
      "Horizontal words:\n",
      "  (None)\n",
      "Vertical words:\n",
      "  (x: 4, y: 7)\n"
     ]
    }
   ],
   "source": [
    "pawns = Pawns()\n",
    "pawns.letters.extend(['B', 'D', 'H'])\n",
    "\n",
    "word = Word()\n",
    "word.word = ['B', 'E', 'D']\n",
    "\n",
    "board.showWordPlacement(pawns, word)"
   ]
  },
  {
   "cell_type": "code",
   "execution_count": 1,
   "metadata": {},
   "outputs": [
    {
     "name": "stdout",
     "output_type": "stream",
     "text": [
      "Pawns' points:\n",
      "\"A\":  1    \"B\":  3    \"C\":  3\n",
      "\"D\":  2    \"E\":  1    \"F\":  4\n",
      "\"G\":  2    \"H\":  4    \"I\":  1\n",
      "\"J\":  8    \"K\":  5    \"L\":  1\n",
      "\"M\":  3    \"N\":  1    \"O\":  1\n",
      "\"P\":  3    \"Q\": 10    \"R\":  1\n",
      "\"S\":  1    \"T\":  1    \"U\":  1\n",
      "\"V\":  4    \"W\":  4    \"X\":  8\n",
      "\"Y\":  4    \"Z\": 10    "
     ]
    }
   ],
   "source": [
    "# Step 12\n",
    "\n",
    "from ScrabbleModule import *\n",
    "\n",
    "Pawns.showPawnsPoints()"
   ]
  },
  {
   "cell_type": "code",
   "execution_count": 4,
   "metadata": {},
   "outputs": [
    {
     "name": "stdout",
     "output_type": "stream",
     "text": [
      "8\n",
      "\n",
      "     00  01  02  03  04  05  06  07  08  09  10  11  12  13  14\n",
      "   +---+---+---+---+---+---+---+---+---+---+---+---+---+---+---+\n",
      "   |   |   |   |   |   |   |   |   |   |   |   |   |   |   |   | 00\n",
      "   +---+---+---+---+---+---+---+---+---+---+---+---+---+---+---+\n",
      "   |   |   |   |   |   |   |   |   |   |   |   |   |   |   |   | 01\n",
      "   +---+---+---+---+---+---+---+---+---+---+---+---+---+---+---+\n",
      "   |   |   |   |   |   |   |   |   |   |   |   |   |   |   |   | 02\n",
      "   +---+---+---+---+---+---+---+---+---+---+---+---+---+---+---+\n",
      "   |   |   |   |   |   |   |   |   |   |   |   |   |   |   |   | 03\n",
      "   +---+---+---+---+---+---+---+---+---+---+---+---+---+---+---+\n",
      "   |   |   |   |   |   |   |   |   |   |   |   |   |   |   |   | 04\n",
      "   +---+---+---+---+---+---+---+---+---+---+---+---+---+---+---+\n",
      "   |   |   |   |   |   |   | A | M | I | G | O | S |   |   |   | 05\n",
      "   +---+---+---+---+---+---+---+---+---+---+---+---+---+---+---+\n",
      "   |   |   |   |   |   |   |   |   |   |   |   |   |   |   |   | 06\n",
      "   +---+---+---+---+---+---+---+---+---+---+---+---+---+---+---+\n",
      "   |   |   |   |   |   |   |   |   |   |   |   |   |   |   |   | 07\n",
      "   +---+---+---+---+---+---+---+---+---+---+---+---+---+---+---+\n",
      "   |   |   |   |   |   |   |   |   |   |   |   |   |   |   |   | 08\n",
      "   +---+---+---+---+---+---+---+---+---+---+---+---+---+---+---+\n",
      "   |   |   |   |   |   |   |   |   |   |   |   |   |   |   |   | 09\n",
      "   +---+---+---+---+---+---+---+---+---+---+---+---+---+---+---+\n",
      "   |   |   |   |   |   |   |   |   |   |   |   |   |   |   |   | 10\n",
      "   +---+---+---+---+---+---+---+---+---+---+---+---+---+---+---+\n",
      "   |   |   |   |   |   |   |   |   |   |   |   |   |   |   |   | 11\n",
      "   +---+---+---+---+---+---+---+---+---+---+---+---+---+---+---+\n",
      "   |   |   |   |   |   |   |   |   |   |   |   |   |   |   |   | 12\n",
      "   +---+---+---+---+---+---+---+---+---+---+---+---+---+---+---+\n",
      "   |   |   |   |   |   |   |   |   |   |   |   |   |   |   |   | 13\n",
      "   +---+---+---+---+---+---+---+---+---+---+---+---+---+---+---+\n",
      "   |   |   |   |   |   |   |   |   |   |   |   |   |   |   |   | 14\n",
      "   +---+---+---+---+---+---+---+---+---+---+---+---+---+---+---+\n",
      "\n",
      "17\n"
     ]
    }
   ],
   "source": [
    "from ScrabbleModule import *\n",
    "\n",
    "bag_of_pawns = Pawns()\n",
    "bag_of_pawns.createBag()\n",
    "\n",
    "word = Word.readWord()\n",
    "x = int(input('x: '))\n",
    "y = int(input('y: '))\n",
    "direction = input('direction: ')\n",
    "\n",
    "board = Board()\n",
    "print(Board.score)\n",
    "board.placeWord(bag_of_pawns, word, x, y, direction)\n",
    "board.showBoard()\n",
    "print(Board.score)"
   ]
  },
  {
   "cell_type": "code",
   "execution_count": 2,
   "metadata": {},
   "outputs": [
    {
     "name": "stdout",
     "output_type": "stream",
     "text": [
      "       ==============================\n",
      "       ||      -- SCRABBLE --      ||\n",
      "       ==============================\n",
      "\n",
      "  - Welcome to \"Scrabble\"!!\n",
      "  \n",
      "  Instructions:\n",
      "   · Start with a word on the center of the game board\n",
      "   · Keep crossing new words to the existing ones\n",
      "   · Pawns' points:\n",
      "   · Get as many points as possible !!\n",
      "\n",
      "           +--------------------+\n",
      "           |   1) New game      |\n",
      "           |   2) High scores   |\n",
      "           |   0) Exit          |\n",
      "           +--------------------+"
     ]
    }
   ],
   "source": [
    "# Final app\n",
    "\n",
    "from ScrabbleModule import *\n",
    "\n",
    "# Creating the bag\n",
    "bag_of_pawns = Pawns()\n",
    "bag_of_pawns.createBag()\n",
    "\n",
    "# Creating player pawns\n",
    "player_pawns = Pawns()\n",
    "\n",
    "# Creating the board\n",
    "board = Board()\n",
    "\n",
    "# Initialize score = 0\n",
    "Board.score = 0\n",
    "\n",
    "# Welcome message\n",
    "def welcome():\n",
    "    with open('welcome_message.txt','r') as f:\n",
    "        for line in f:\n",
    "            print(line, end = '')\n",
    "\n",
    "welcome()\n",
    "\n",
    "# Taking first pawns\n",
    "for _ in range(7):\n",
    "    player_pawns.addPawn(bag_of_pawns.takeRandomPawn())\n",
    "\n",
    "# Introduce first word or get help\n"
   ]
  },
  {
   "cell_type": "code",
   "execution_count": 13,
   "metadata": {},
   "outputs": [],
   "source": [
    "m=0\n",
    "with open('dictionary.txt','r') as f:\n",
    "    for line in f:\n",
    "        if len(line)-1 > m:\n",
    "            m=len(line)-1"
   ]
  },
  {
   "cell_type": "code",
   "execution_count": 14,
   "metadata": {},
   "outputs": [
    {
     "data": {
      "text/plain": [
       "19"
      ]
     },
     "execution_count": 14,
     "metadata": {},
     "output_type": "execute_result"
    }
   ],
   "source": [
    "m"
   ]
  },
  {
   "cell_type": "code",
   "execution_count": 3,
   "metadata": {},
   "outputs": [
    {
     "name": "stdout",
     "output_type": "stream",
     "text": [
      "A         AH        AL        H         HA        HALO\n",
      "HL        HO        L         LA        LO        O\n",
      "OH        "
     ]
    }
   ],
   "source": [
    "from ScrabbleModule import *\n",
    "\n",
    "my_pawns = Pawns()\n",
    "my_pawns.letters.extend(['H', 'O', 'L', 'A'])\n",
    "\n",
    "freq_pawns = my_pawns.getFrequency()\n",
    "with open(Dictionary.filepath, 'r') as f:\n",
    "    i = 1\n",
    "    while not (line := Word.readWordFromFile(f)).isEmpty():\n",
    "        if FrequencyTable.isSubset(line.getFrequency(), freq_pawns):\n",
    "            print(line, end = (' '*(10-line.getLengthWord()) if i % 6 != 0 else '\\n'))\n",
    "            i += 1"
   ]
  },
  {
   "cell_type": "code",
   "execution_count": 75,
   "metadata": {},
   "outputs": [],
   "source": [
    "from ScrabbleModule import *\n",
    "\n",
    "my_pawns = Pawns()\n",
    "my_pawns.letters.extend(['H', 'O', 'L', 'A', 'M', 'I', 'G', 'O'])\n",
    "\n",
    "freq_pawns = my_pawns.getFrequency()\n",
    "\n",
    "with open(Dictionary.filepath, 'r') as f:\n",
    "    dictionary = []\n",
    "    fq_dictionary = []\n",
    "    for line in f:\n",
    "        w = Word()\n",
    "        w.word.extend(list(line[:-1]))\n",
    "        #dictionary.append(w)\n",
    "        dictionary.append(line[:-1])\n",
    "        fq_dictionary.append(w.getFrequency())\n"
   ]
  },
  {
   "cell_type": "code",
   "execution_count": 59,
   "metadata": {},
   "outputs": [
    {
     "ename": "AttributeError",
     "evalue": "'str' object has no attribute 'getFrequency'",
     "output_type": "error",
     "traceback": [
      "\u001b[0;31m---------------------------------------------------------------------------\u001b[0m",
      "\u001b[0;31mAttributeError\u001b[0m                            Traceback (most recent call last)",
      "\u001b[1;32m/home/diego/MEGA/Data Science/UdemyPython/Scrabble/main.ipynb Cell 20'\u001b[0m in \u001b[0;36m<cell line: 1>\u001b[0;34m()\u001b[0m\n\u001b[1;32m      <a href='vscode-notebook-cell:/home/diego/MEGA/Data%20Science/UdemyPython/Scrabble/main.ipynb#ch0000027?line=0'>1</a>\u001b[0m \u001b[39mfor\u001b[39;00m w \u001b[39min\u001b[39;00m dictionary:\n\u001b[0;32m----> <a href='vscode-notebook-cell:/home/diego/MEGA/Data%20Science/UdemyPython/Scrabble/main.ipynb#ch0000027?line=1'>2</a>\u001b[0m     \u001b[39mif\u001b[39;00m FrequencyTable\u001b[39m.\u001b[39misSubset(w\u001b[39m.\u001b[39;49mgetFrequency(), my_pawns\u001b[39m.\u001b[39mgetFrequency()):\n\u001b[1;32m      <a href='vscode-notebook-cell:/home/diego/MEGA/Data%20Science/UdemyPython/Scrabble/main.ipynb#ch0000027?line=2'>3</a>\u001b[0m         \u001b[39mprint\u001b[39m(w)\n",
      "\u001b[0;31mAttributeError\u001b[0m: 'str' object has no attribute 'getFrequency'"
     ]
    }
   ],
   "source": [
    "for w in dictionary:\n",
    "    if FrequencyTable.isSubset(w.getFrequency(), my_pawns.getFrequency()):\n",
    "        print(w)"
   ]
  },
  {
   "cell_type": "code",
   "execution_count": 40,
   "metadata": {},
   "outputs": [
    {
     "data": {
      "text/plain": [
       "[(1, 2, 3), (1, 3, 2), (2, 1, 3), (2, 3, 1), (3, 1, 2), (3, 2, 1)]"
      ]
     },
     "execution_count": 40,
     "metadata": {},
     "output_type": "execute_result"
    }
   ],
   "source": [
    "import itertools\n",
    "list(itertools.permutations([1,2,3]))"
   ]
  },
  {
   "cell_type": "code",
   "execution_count": 42,
   "metadata": {},
   "outputs": [
    {
     "data": {
      "text/plain": [
       "['H', 'O', 'L', 'A']"
      ]
     },
     "execution_count": 42,
     "metadata": {},
     "output_type": "execute_result"
    }
   ],
   "source": [
    "my_pawns.letters"
   ]
  },
  {
   "cell_type": "code",
   "execution_count": 60,
   "metadata": {},
   "outputs": [
    {
     "name": "stdout",
     "output_type": "stream",
     "text": [
      "H\n",
      "O\n",
      "L\n",
      "A\n",
      "M\n",
      "I\n",
      "G\n",
      "O\n",
      "HO\n",
      "HL\n",
      "HA\n",
      "HM\n",
      "HI\n",
      "HO\n",
      "OH\n",
      "OO\n",
      "LO\n",
      "LA\n",
      "LI\n",
      "LO\n",
      "AH\n",
      "AL\n",
      "AM\n",
      "AI\n",
      "MO\n",
      "MA\n",
      "MO\n",
      "IL\n",
      "GO\n",
      "GL\n",
      "GA\n",
      "GI\n",
      "GO\n",
      "OH\n",
      "OO\n",
      "HOG\n",
      "HOO\n",
      "HAM\n",
      "HAG\n",
      "HIM\n",
      "HOO\n",
      "HOG\n",
      "OHO\n",
      "OIL\n",
      "LOG\n",
      "LOO\n",
      "LAG\n",
      "LOO\n",
      "LOG\n",
      "AMI\n",
      "AIM\n",
      "AGO\n",
      "AGO\n",
      "MOI\n",
      "MAL\n",
      "MAI\n",
      "MAG\n",
      "MOI\n",
      "GHA\n",
      "GOA\n",
      "GOO\n",
      "GAL\n",
      "GOO\n",
      "GOA\n",
      "OHO\n",
      "OIL\n",
      "HALO\n",
      "HALO\n",
      "HAIL\n",
      "LOAM\n",
      "LOOM\n",
      "LIMA\n",
      "LIGH\n",
      "LOOM\n",
      "LOAM\n",
      "MAIL\n",
      "GOAL\n",
      "GOAL\n",
      "GLOOM\n",
      "GLOOM\n"
     ]
    }
   ],
   "source": [
    "for i in range(len(my_pawns.letters)):\n",
    "    for ff in map(lambda x: ''.join(x), itertools.permutations(my_pawns.letters, i+1)):\n",
    "        if ff in dictionary: print(ff)"
   ]
  },
  {
   "cell_type": "code",
   "execution_count": 73,
   "metadata": {},
   "outputs": [
    {
     "data": {
      "text/plain": [
       "[('H', 'O', 'L'),\n",
       " ('H', 'O', 'A'),\n",
       " ('H', 'O', 'M'),\n",
       " ('H', 'O', 'I'),\n",
       " ('H', 'O', 'G'),\n",
       " ('H', 'O', 'O'),\n",
       " ('H', 'L', 'A'),\n",
       " ('H', 'L', 'M'),\n",
       " ('H', 'L', 'I'),\n",
       " ('H', 'L', 'G'),\n",
       " ('H', 'L', 'O'),\n",
       " ('H', 'A', 'M'),\n",
       " ('H', 'A', 'I'),\n",
       " ('H', 'A', 'G'),\n",
       " ('H', 'A', 'O'),\n",
       " ('H', 'M', 'I'),\n",
       " ('H', 'M', 'G'),\n",
       " ('H', 'M', 'O'),\n",
       " ('H', 'I', 'G'),\n",
       " ('H', 'I', 'O'),\n",
       " ('H', 'G', 'O'),\n",
       " ('O', 'L', 'A'),\n",
       " ('O', 'L', 'M'),\n",
       " ('O', 'L', 'I'),\n",
       " ('O', 'L', 'G'),\n",
       " ('O', 'L', 'O'),\n",
       " ('O', 'A', 'M'),\n",
       " ('O', 'A', 'I'),\n",
       " ('O', 'A', 'G'),\n",
       " ('O', 'A', 'O'),\n",
       " ('O', 'M', 'I'),\n",
       " ('O', 'M', 'G'),\n",
       " ('O', 'M', 'O'),\n",
       " ('O', 'I', 'G'),\n",
       " ('O', 'I', 'O'),\n",
       " ('O', 'G', 'O'),\n",
       " ('L', 'A', 'M'),\n",
       " ('L', 'A', 'I'),\n",
       " ('L', 'A', 'G'),\n",
       " ('L', 'A', 'O'),\n",
       " ('L', 'M', 'I'),\n",
       " ('L', 'M', 'G'),\n",
       " ('L', 'M', 'O'),\n",
       " ('L', 'I', 'G'),\n",
       " ('L', 'I', 'O'),\n",
       " ('L', 'G', 'O'),\n",
       " ('A', 'M', 'I'),\n",
       " ('A', 'M', 'G'),\n",
       " ('A', 'M', 'O'),\n",
       " ('A', 'I', 'G'),\n",
       " ('A', 'I', 'O'),\n",
       " ('A', 'G', 'O'),\n",
       " ('M', 'I', 'G'),\n",
       " ('M', 'I', 'O'),\n",
       " ('M', 'G', 'O'),\n",
       " ('I', 'G', 'O')]"
      ]
     },
     "execution_count": 73,
     "metadata": {},
     "output_type": "execute_result"
    }
   ],
   "source": [
    "list(itertools.combinations(my_pawns.letters, 3))"
   ]
  },
  {
   "cell_type": "code",
   "execution_count": 74,
   "metadata": {},
   "outputs": [
    {
     "ename": "AttributeError",
     "evalue": "'NoneType' object has no attribute 'letters'",
     "output_type": "error",
     "traceback": [
      "\u001b[0;31m---------------------------------------------------------------------------\u001b[0m",
      "\u001b[0;31mAttributeError\u001b[0m                            Traceback (most recent call last)",
      "\u001b[1;32m/home/diego/MEGA/Data Science/UdemyPython/Scrabble/main.ipynb Cell 25'\u001b[0m in \u001b[0;36m<cell line: 1>\u001b[0;34m()\u001b[0m\n\u001b[0;32m----> <a href='vscode-notebook-cell:/home/diego/MEGA/Data%20Science/UdemyPython/Scrabble/main.ipynb#ch0000036?line=0'>1</a>\u001b[0m Pawns()\u001b[39m.\u001b[39;49mletters\u001b[39m.\u001b[39;49mextend([\u001b[39m'\u001b[39;49m\u001b[39mA\u001b[39;49m\u001b[39m'\u001b[39;49m, \u001b[39m'\u001b[39;49m\u001b[39mB\u001b[39;49m\u001b[39m'\u001b[39;49m])\u001b[39m.\u001b[39;49mletters\n",
      "\u001b[0;31mAttributeError\u001b[0m: 'NoneType' object has no attribute 'letters'"
     ]
    }
   ],
   "source": [
    "for i in itertools.combinations(my_pawns.letters, 3):\n",
    "    pawns = Pawns()\n",
    "    pawns.letters.extend(list(i))\n",
    "    FrequencyTable"
   ]
  },
  {
   "cell_type": "code",
   "execution_count": 2,
   "metadata": {},
   "outputs": [],
   "source": [
    "with open('dictionary.txt', 'r') as f:\n",
    "    with open('dictionary_2.txt', 'w') as g:\n",
    "        for line in f:\n",
    "            if len(line) != 2:\n",
    "                g.write(line)"
   ]
  },
  {
   "cell_type": "code",
   "execution_count": 15,
   "metadata": {},
   "outputs": [],
   "source": [
    "import csv\n",
    "from datetime import date\n",
    "\n",
    "data = [['Name', 'Score', 'nº_Words', 'Date'], ['Diego', 5, 1, date.today().strftime(\"%Y-%m-%d\")]]\n",
    "\n",
    "with open('high_scores.csv', 'w') as f:\n",
    "    writer = csv.writer(f)\n",
    "    for row in data:\n",
    "        writer.writerow(row)"
   ]
  },
  {
   "cell_type": "code",
   "execution_count": 26,
   "metadata": {},
   "outputs": [],
   "source": [
    "import csv\n",
    "from datetime import date\n",
    "\n",
    "with open('high_scores.csv','w') as f:\n",
    "    writer = csv.writer(f)\n",
    "    writer.writerow(['Name', 'Score', 'nº_Words', 'Date'])"
   ]
  },
  {
   "cell_type": "code",
   "execution_count": 16,
   "metadata": {},
   "outputs": [],
   "source": [
    "with open('high_scores.csv','a') as f:\n",
    "    writer = csv.writer(f)\n",
    "    writer.writerow(['Natalia', 10, 2, date.today().strftime(\"%Y-%m-%d\")])"
   ]
  },
  {
   "cell_type": "code",
   "execution_count": 8,
   "metadata": {},
   "outputs": [
    {
     "data": {
      "text/plain": [
       "'2022-05-27'"
      ]
     },
     "execution_count": 8,
     "metadata": {},
     "output_type": "execute_result"
    }
   ],
   "source": [
    "date.today().strftime(\"%Y-%m-%d\")"
   ]
  },
  {
   "cell_type": "code",
   "execution_count": 10,
   "metadata": {},
   "outputs": [],
   "source": [
    "import pandas as pd\n",
    "\n",
    "data = pd.read_csv('high_scores.csv')"
   ]
  },
  {
   "cell_type": "code",
   "execution_count": 12,
   "metadata": {},
   "outputs": [],
   "source": [
    "data.insert(loc = 0, column = 'Rank', value = data['Score'].rank(ascending = False))"
   ]
  },
  {
   "cell_type": "code",
   "execution_count": 14,
   "metadata": {},
   "outputs": [
    {
     "data": {
      "text/html": [
       "<div>\n",
       "<style scoped>\n",
       "    .dataframe tbody tr th:only-of-type {\n",
       "        vertical-align: middle;\n",
       "    }\n",
       "\n",
       "    .dataframe tbody tr th {\n",
       "        vertical-align: top;\n",
       "    }\n",
       "\n",
       "    .dataframe thead th {\n",
       "        text-align: right;\n",
       "    }\n",
       "</style>\n",
       "<table border=\"1\" class=\"dataframe\">\n",
       "  <thead>\n",
       "    <tr style=\"text-align: right;\">\n",
       "      <th></th>\n",
       "      <th>Rank</th>\n",
       "      <th>Name</th>\n",
       "      <th>Score</th>\n",
       "      <th>nº_Words</th>\n",
       "      <th>Date</th>\n",
       "    </tr>\n",
       "  </thead>\n",
       "  <tbody>\n",
       "    <tr>\n",
       "      <th>2</th>\n",
       "      <td>1.0</td>\n",
       "      <td>Diego</td>\n",
       "      <td>16</td>\n",
       "      <td>2</td>\n",
       "      <td>2022-05-27</td>\n",
       "    </tr>\n",
       "    <tr>\n",
       "      <th>0</th>\n",
       "      <td>2.0</td>\n",
       "      <td>Diego</td>\n",
       "      <td>8</td>\n",
       "      <td>1</td>\n",
       "      <td>2022-05-27</td>\n",
       "    </tr>\n",
       "  </tbody>\n",
       "</table>\n",
       "</div>"
      ],
      "text/plain": [
       "   Rank   Name  Score  nº_Words        Date\n",
       "2   1.0  Diego     16         2  2022-05-27\n",
       "0   2.0  Diego      8         1  2022-05-27"
      ]
     },
     "execution_count": 14,
     "metadata": {},
     "output_type": "execute_result"
    }
   ],
   "source": [
    "data.nsmallest(5, 'Rank')"
   ]
  },
  {
   "cell_type": "code",
   "execution_count": 16,
   "metadata": {},
   "outputs": [
    {
     "data": {
      "text/html": [
       "<div>\n",
       "<style scoped>\n",
       "    .dataframe tbody tr th:only-of-type {\n",
       "        vertical-align: middle;\n",
       "    }\n",
       "\n",
       "    .dataframe tbody tr th {\n",
       "        vertical-align: top;\n",
       "    }\n",
       "\n",
       "    .dataframe thead th {\n",
       "        text-align: right;\n",
       "    }\n",
       "</style>\n",
       "<table border=\"1\" class=\"dataframe\">\n",
       "  <thead>\n",
       "    <tr style=\"text-align: right;\">\n",
       "      <th></th>\n",
       "      <th>Rank</th>\n",
       "      <th>Name</th>\n",
       "      <th>Score</th>\n",
       "      <th>nº_Words</th>\n",
       "      <th>Date</th>\n",
       "    </tr>\n",
       "  </thead>\n",
       "  <tbody>\n",
       "    <tr>\n",
       "      <th>0</th>\n",
       "      <td>2.0</td>\n",
       "      <td>Diego</td>\n",
       "      <td>8</td>\n",
       "      <td>1</td>\n",
       "      <td>2022-05-27</td>\n",
       "    </tr>\n",
       "    <tr>\n",
       "      <th>1</th>\n",
       "      <td>3.0</td>\n",
       "      <td>Diego</td>\n",
       "      <td>7</td>\n",
       "      <td>1</td>\n",
       "      <td>2022-05-27</td>\n",
       "    </tr>\n",
       "    <tr>\n",
       "      <th>2</th>\n",
       "      <td>1.0</td>\n",
       "      <td>Diego</td>\n",
       "      <td>16</td>\n",
       "      <td>2</td>\n",
       "      <td>2022-05-27</td>\n",
       "    </tr>\n",
       "    <tr>\n",
       "      <th>3</th>\n",
       "      <td>4.0</td>\n",
       "      <td>NaN</td>\n",
       "      <td>0</td>\n",
       "      <td>0</td>\n",
       "      <td>2022-05-27</td>\n",
       "    </tr>\n",
       "  </tbody>\n",
       "</table>\n",
       "</div>"
      ],
      "text/plain": [
       "   Rank   Name  Score  nº_Words        Date\n",
       "0   2.0  Diego      8         1  2022-05-27\n",
       "1   3.0  Diego      7         1  2022-05-27\n",
       "2   1.0  Diego     16         2  2022-05-27\n",
       "3   4.0    NaN      0         0  2022-05-27"
      ]
     },
     "execution_count": 16,
     "metadata": {},
     "output_type": "execute_result"
    }
   ],
   "source": [
    "data"
   ]
  },
  {
   "cell_type": "code",
   "execution_count": 6,
   "metadata": {},
   "outputs": [],
   "source": [
    "data['Rank'] = data['Score'].rank(ascending = False)"
   ]
  },
  {
   "cell_type": "code",
   "execution_count": 7,
   "metadata": {},
   "outputs": [
    {
     "data": {
      "text/html": [
       "<div>\n",
       "<style scoped>\n",
       "    .dataframe tbody tr th:only-of-type {\n",
       "        vertical-align: middle;\n",
       "    }\n",
       "\n",
       "    .dataframe tbody tr th {\n",
       "        vertical-align: top;\n",
       "    }\n",
       "\n",
       "    .dataframe thead th {\n",
       "        text-align: right;\n",
       "    }\n",
       "</style>\n",
       "<table border=\"1\" class=\"dataframe\">\n",
       "  <thead>\n",
       "    <tr style=\"text-align: right;\">\n",
       "      <th></th>\n",
       "      <th>Name</th>\n",
       "      <th>Score</th>\n",
       "      <th>nº_Words</th>\n",
       "      <th>Date</th>\n",
       "      <th>Rank</th>\n",
       "    </tr>\n",
       "  </thead>\n",
       "  <tbody>\n",
       "    <tr>\n",
       "      <th>0</th>\n",
       "      <td>Diego</td>\n",
       "      <td>8</td>\n",
       "      <td>1</td>\n",
       "      <td>2022-05-27</td>\n",
       "      <td>2.0</td>\n",
       "    </tr>\n",
       "    <tr>\n",
       "      <th>1</th>\n",
       "      <td>Diego</td>\n",
       "      <td>7</td>\n",
       "      <td>1</td>\n",
       "      <td>2022-05-27</td>\n",
       "      <td>3.0</td>\n",
       "    </tr>\n",
       "    <tr>\n",
       "      <th>2</th>\n",
       "      <td>Diego</td>\n",
       "      <td>16</td>\n",
       "      <td>2</td>\n",
       "      <td>2022-05-27</td>\n",
       "      <td>1.0</td>\n",
       "    </tr>\n",
       "    <tr>\n",
       "      <th>3</th>\n",
       "      <td>NaN</td>\n",
       "      <td>0</td>\n",
       "      <td>0</td>\n",
       "      <td>2022-05-27</td>\n",
       "      <td>4.0</td>\n",
       "    </tr>\n",
       "  </tbody>\n",
       "</table>\n",
       "</div>"
      ],
      "text/plain": [
       "    Name  Score  nº_Words        Date  Rank\n",
       "0  Diego      8         1  2022-05-27   2.0\n",
       "1  Diego      7         1  2022-05-27   3.0\n",
       "2  Diego     16         2  2022-05-27   1.0\n",
       "3    NaN      0         0  2022-05-27   4.0"
      ]
     },
     "execution_count": 7,
     "metadata": {},
     "output_type": "execute_result"
    }
   ],
   "source": [
    "data"
   ]
  },
  {
   "cell_type": "code",
   "execution_count": 9,
   "metadata": {},
   "outputs": [
    {
     "data": {
      "text/html": [
       "<div>\n",
       "<style scoped>\n",
       "    .dataframe tbody tr th:only-of-type {\n",
       "        vertical-align: middle;\n",
       "    }\n",
       "\n",
       "    .dataframe tbody tr th {\n",
       "        vertical-align: top;\n",
       "    }\n",
       "\n",
       "    .dataframe thead th {\n",
       "        text-align: right;\n",
       "    }\n",
       "</style>\n",
       "<table border=\"1\" class=\"dataframe\">\n",
       "  <thead>\n",
       "    <tr style=\"text-align: right;\">\n",
       "      <th></th>\n",
       "      <th>Name</th>\n",
       "      <th>Score</th>\n",
       "      <th>nº_Words</th>\n",
       "      <th>Date</th>\n",
       "      <th>Rank</th>\n",
       "    </tr>\n",
       "  </thead>\n",
       "  <tbody>\n",
       "    <tr>\n",
       "      <th>2</th>\n",
       "      <td>Diego</td>\n",
       "      <td>16</td>\n",
       "      <td>2</td>\n",
       "      <td>2022-05-27</td>\n",
       "      <td>1.0</td>\n",
       "    </tr>\n",
       "    <tr>\n",
       "      <th>0</th>\n",
       "      <td>Diego</td>\n",
       "      <td>8</td>\n",
       "      <td>1</td>\n",
       "      <td>2022-05-27</td>\n",
       "      <td>2.0</td>\n",
       "    </tr>\n",
       "  </tbody>\n",
       "</table>\n",
       "</div>"
      ],
      "text/plain": [
       "    Name  Score  nº_Words        Date  Rank\n",
       "2  Diego     16         2  2022-05-27   1.0\n",
       "0  Diego      8         1  2022-05-27   2.0"
      ]
     },
     "execution_count": 9,
     "metadata": {},
     "output_type": "execute_result"
    }
   ],
   "source": [
    "data.nsmallest(2, 'Rank')"
   ]
  },
  {
   "cell_type": "code",
   "execution_count": 22,
   "metadata": {},
   "outputs": [
    {
     "name": "stderr",
     "output_type": "stream",
     "text": [
      "/tmp/ipykernel_25567/1655106480.py:1: FutureWarning: this method is deprecated in favour of `Styler.hide(axis='index')`\n",
      "  data.style.hide_index()\n"
     ]
    },
    {
     "data": {
      "text/html": [
       "<style type=\"text/css\">\n",
       "</style>\n",
       "<table id=\"T_8d9a9\">\n",
       "  <thead>\n",
       "    <tr>\n",
       "      <th id=\"T_8d9a9_level0_col0\" class=\"col_heading level0 col0\" >Rank</th>\n",
       "      <th id=\"T_8d9a9_level0_col1\" class=\"col_heading level0 col1\" >Name</th>\n",
       "      <th id=\"T_8d9a9_level0_col2\" class=\"col_heading level0 col2\" >Score</th>\n",
       "      <th id=\"T_8d9a9_level0_col3\" class=\"col_heading level0 col3\" >nº_Words</th>\n",
       "      <th id=\"T_8d9a9_level0_col4\" class=\"col_heading level0 col4\" >Date</th>\n",
       "    </tr>\n",
       "  </thead>\n",
       "  <tbody>\n",
       "    <tr>\n",
       "      <td id=\"T_8d9a9_row0_col0\" class=\"data row0 col0\" >2.000000</td>\n",
       "      <td id=\"T_8d9a9_row0_col1\" class=\"data row0 col1\" >Diego</td>\n",
       "      <td id=\"T_8d9a9_row0_col2\" class=\"data row0 col2\" >8</td>\n",
       "      <td id=\"T_8d9a9_row0_col3\" class=\"data row0 col3\" >1</td>\n",
       "      <td id=\"T_8d9a9_row0_col4\" class=\"data row0 col4\" >2022-05-27</td>\n",
       "    </tr>\n",
       "    <tr>\n",
       "      <td id=\"T_8d9a9_row1_col0\" class=\"data row1 col0\" >3.000000</td>\n",
       "      <td id=\"T_8d9a9_row1_col1\" class=\"data row1 col1\" >Diego</td>\n",
       "      <td id=\"T_8d9a9_row1_col2\" class=\"data row1 col2\" >7</td>\n",
       "      <td id=\"T_8d9a9_row1_col3\" class=\"data row1 col3\" >1</td>\n",
       "      <td id=\"T_8d9a9_row1_col4\" class=\"data row1 col4\" >2022-05-27</td>\n",
       "    </tr>\n",
       "    <tr>\n",
       "      <td id=\"T_8d9a9_row2_col0\" class=\"data row2 col0\" >1.000000</td>\n",
       "      <td id=\"T_8d9a9_row2_col1\" class=\"data row2 col1\" >Diego</td>\n",
       "      <td id=\"T_8d9a9_row2_col2\" class=\"data row2 col2\" >16</td>\n",
       "      <td id=\"T_8d9a9_row2_col3\" class=\"data row2 col3\" >2</td>\n",
       "      <td id=\"T_8d9a9_row2_col4\" class=\"data row2 col4\" >2022-05-27</td>\n",
       "    </tr>\n",
       "    <tr>\n",
       "      <td id=\"T_8d9a9_row3_col0\" class=\"data row3 col0\" >4.000000</td>\n",
       "      <td id=\"T_8d9a9_row3_col1\" class=\"data row3 col1\" >nan</td>\n",
       "      <td id=\"T_8d9a9_row3_col2\" class=\"data row3 col2\" >0</td>\n",
       "      <td id=\"T_8d9a9_row3_col3\" class=\"data row3 col3\" >0</td>\n",
       "      <td id=\"T_8d9a9_row3_col4\" class=\"data row3 col4\" >2022-05-27</td>\n",
       "    </tr>\n",
       "  </tbody>\n",
       "</table>\n"
      ],
      "text/plain": [
       "<pandas.io.formats.style.Styler at 0x7f2e4871f970>"
      ]
     },
     "execution_count": 22,
     "metadata": {},
     "output_type": "execute_result"
    }
   ],
   "source": [
    "data.style.hide_index()"
   ]
  }
 ],
 "metadata": {
  "interpreter": {
   "hash": "cfabb1696f3f92dd827b4781d6568a4befad65a1aca197adeca8204c757e44c2"
  },
  "kernelspec": {
   "display_name": "Python 3 (ipykernel)",
   "language": "python",
   "name": "python3"
  },
  "language_info": {
   "codemirror_mode": {
    "name": "ipython",
    "version": 3
   },
   "file_extension": ".py",
   "mimetype": "text/x-python",
   "name": "python",
   "nbconvert_exporter": "python",
   "pygments_lexer": "ipython3",
   "version": "3.8.10"
  }
 },
 "nbformat": 4,
 "nbformat_minor": 2
}
